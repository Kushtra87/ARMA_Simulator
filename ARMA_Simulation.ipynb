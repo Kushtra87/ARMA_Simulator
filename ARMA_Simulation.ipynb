{
  "nbformat": 4,
  "nbformat_minor": 0,
  "metadata": {
    "colab": {
      "name": "ARMA_Simulation.ipynb",
      "provenance": [],
      "collapsed_sections": [],
      "authorship_tag": "ABX9TyM1BJSozqr+5zQF62n6L1N3",
      "include_colab_link": true
    },
    "kernelspec": {
      "name": "python3",
      "display_name": "Python 3"
    }
  },
  "cells": [
    {
      "cell_type": "markdown",
      "metadata": {
        "id": "view-in-github",
        "colab_type": "text"
      },
      "source": [
        "<a href=\"https://colab.research.google.com/github/btshow/ARMA_Simulator/blob/main/ARMA_Simulation.ipynb\" target=\"_parent\"><img src=\"https://colab.research.google.com/assets/colab-badge.svg\" alt=\"Open In Colab\"/></a>"
      ]
    },
    {
      "cell_type": "markdown",
      "metadata": {
        "id": "igaN9ArTT2p6"
      },
      "source": [
        "# Monte Carlo Simulation of a ARMA(p,q) time series."
      ]
    },
    {
      "cell_type": "markdown",
      "metadata": {
        "id": "r8mHQbIS99Fg"
      },
      "source": [
        "This script generates a time series y that has the statistical properties of an ARMA process.\n",
        "\n",
        "Instructions:\n",
        "1. Run the code cell after \"Define ARMA Function\" to define the python function that will generate the ARMA time series y.\n",
        "2. Run the code cell after \"Generate ARMA times series y\" to actually generate the ARMA time series y. (Choose the parameters of the function how you like it)"
      ]
    },
    {
      "cell_type": "markdown",
      "metadata": {
        "id": "Q_RKei5p_JQw"
      },
      "source": [
        "## Define ARMA Function"
      ]
    },
    {
      "cell_type": "code",
      "metadata": {
        "id": "vw1CJt4dJjyn"
      },
      "source": [
        " \"\"\"\n",
        "FUNCTION DEFINITION\n",
        "Monte Carlo Simulation of a ARMA(p,q) time series.\n",
        "\n",
        "INPUT PARAMETERS\n",
        "\n",
        "alpha:    This value is a constant and added each period. \n",
        "          \n",
        "          Note: alpha and the AR coefficients (the elements of beta)-\n",
        "          determine the mean of the resulting series y. \n",
        "          For a single AR coefficient beta<1 (and with neither a linear trend,\n",
        "          nor seasonality) the mean(y)~E(y)=alpha/(1-beta)\n",
        "\n",
        "beta:     An array of length p with the AR coefficients (the AR part of \n",
        "          the ARMA model). \n",
        "          \n",
        "          Note 1: alpha and the AR coefficients (the elements of beta)-\n",
        "          determine the mean of the resulting series y. \n",
        "          For a single AR coefficient beta<1 (and with neither a linear trend,\n",
        "          nor seasonality) the mean(y)~E(y)=alpha/(1-beta)\n",
        "\n",
        "          Note 2: If beta has a single element i.e. one AR coefficient \n",
        "          the coefficient should be beta<1 in order to keep the process \n",
        "          stationary. \n",
        "            With beta=1 we will have \"random-walk stationarity\". \n",
        "            With beta>1 the values of y will explode in size.\n",
        "            With more than one AR components determining stationarity is more involved.\n",
        "\n",
        "theta:    An array of length q with the MA coefficients (the MA part of \n",
        "          the ARMA model).\n",
        "\n",
        "sigma:    Standard deviaton of the normally distributed errors \n",
        "          The standard deviation can be set by sigma, however the of the errors \n",
        "          is always set to 0).\n",
        "\n",
        "linear_trend_parameter: Adds a linear trend to the generation of the y series. \n",
        "                        The value of this parameter is added each period.\n",
        "\n",
        "seasonality4_parameters:  Adds a 4 period seasonality pattern to the generation \n",
        "                          of the y series. \n",
        "                          The 1st element of seasonality4_parameters is added \n",
        "                          when generating y1.\n",
        "                          The 2st element of seasonality4_parameters is added \n",
        "                          when generating y2.\n",
        "                          etc up to 4th element and y4. \n",
        "                          For y5 the 1st element of seasonality4_parameters \n",
        "                          is added. \n",
        "                          For y6 the 2st element of seasonality4_parameters \n",
        "                          is added. etc\n",
        "seasonality12_parameters:  Adds a 12 period seasonality pattern to the generation \n",
        "                           of the y series. For the mechanism see \n",
        "                           seasonality4_parameters.\n",
        "\n",
        "n:        Length of the returned time-series.\n",
        "\n",
        "initial_y_value: if this parameter is set to a value unequal to 0, \n",
        "                 then y0 is set by this value and is used as y_t-1=y0 when\n",
        "                generating y1.\n",
        "                if this parameter is not set or equal to zero. y0 is drawn from \n",
        "                the normal distribution which is determined by sigma. \n",
        "\n",
        "warm_start:   I you want a quite representative ARMA process you want to discard \n",
        "          a few observations at the beginning. The values at the beginning are \n",
        "          heavily influenced by the starting values i.e. y0 \n",
        "          warm_start is the number of values discarded from the start of the series \n",
        "          before outputting the final y series.\n",
        "\"\"\" \n",
        "\n",
        "from numpy import append,array\n",
        "from numpy.random import normal\n",
        "import numpy as np\n",
        "import math as math\n",
        "\n",
        "def ARMAgenerator(alpha,\n",
        "                  beta,\n",
        "                  theta,\n",
        "                  sigma,\n",
        "                  linear_trend_parameter,\n",
        "                  seasonality4_parameters,\n",
        "                  seasonality12_parameters,\n",
        "                  n,\n",
        "                  initial_y_value,\n",
        "                  warm_start,\n",
        "                  verbose=0):\n",
        "    l=max(len(beta),len(theta))\n",
        "    if(warm_start!=0):\n",
        "      warm_start=10*l # Burn-in elements!\n",
        "    error=normal(0,sigma,n+warm_start)\n",
        "    #print(error)\n",
        "    y=array([])\n",
        "    s=0.0\n",
        "    trend=0\n",
        "    season=0\n",
        "    l=max(len(beta),len(theta))\n",
        "    def season_index(trend,number_of_seasons):\n",
        "      for i in range(number_of_seasons):\n",
        "        if round(math.modf(trend/number_of_seasons)[0],4)==round(math.modf((i+1)/number_of_seasons)[0],4):\n",
        "          season = int(i)\n",
        "          return season\n",
        "\n",
        "    for i in range(n+warm_start):\n",
        "        if(i<l):\n",
        "          if (initial_y_value!=0):\n",
        "            y=append(y,initial_y_value)\n",
        "            #print(f'Initial y value i.e. y0 is: {initial_y_value}') \n",
        "          else:\n",
        "            y=append(y,error[i])\n",
        "            #print(f'Initial error value i.e. at time t={i} is: {error[i]}') \n",
        "\n",
        "        else:\n",
        "          trend+=1\n",
        "          season4 = season_index(trend,4)\n",
        "          season12 = season_index(trend,12)\n",
        "            \n",
        "          s=0.0 #sum for each n to carry the intermediate results of the AR and MA components forwards through the loops\n",
        "          for j in range(len(beta)):\n",
        "              s=s+beta[j]*y[i-j-1]\n",
        "          for j in range(len(theta)):\n",
        "              s=s+theta[j]*error[i-j-1]\n",
        "              #print(error[i-j-1])\n",
        "          y_t = s + error[i] + alpha + linear_trend_parameter*trend + seasonality4_parameters[season4]+ seasonality12_parameters[season12]\n",
        "          y=append(y,y_t) #\n",
        "          #print(f'error at time t={i} is: {error[i]}')\n",
        "          #print(f'error at time t={i} is: {error[i]}')\n",
        "    if(verbose!=0):\n",
        "      print (f'Measured error standard deviation: {(np.sqrt(np.var(error[warm_start:])))}, Measured series mean: {np.mean(y)}')\n",
        "    return y[warm_start:]\n"
      ],
      "execution_count": 1,
      "outputs": []
    },
    {
      "cell_type": "markdown",
      "metadata": {
        "id": "zVz4b8x8x2BT"
      },
      "source": [
        "## Generate ARMA times series y\n",
        "\n",
        "Generate ARMA(𝑝,𝑞) time series with normally distributed errors, optionally with: linear time trend, 4-period seasonality, 12-period seasonality.\n",
        "\n",
        "Feel free to play around with the parameters. Please be aware that certain parameter settings might result in strang e.g. exploding processes. Please see the parameter descriptions in the code cell above for more detail."
      ]
    },
    {
      "cell_type": "code",
      "metadata": {
        "colab": {
          "base_uri": "https://localhost:8080/",
          "height": 296
        },
        "id": "bnTXrj6Wznke",
        "outputId": "4fa7c51c-1a67-487f-c8f3-febe78011708"
      },
      "source": [
        "# Set Parameters\n",
        "alpha = 10.0 # Constant\n",
        "beta=[0.5]  #AR Components, for more than one AR component specify a list e.g. [0.4,0.3]\n",
        "theta= [0.9] # MA Components, for more than one MA component specify a list e.g. [0.1,-0.3]\n",
        "sigma=1.0 # Standard deviation of the normal distribution from which the errors are pulled each period\n",
        "\n",
        "#seasonality4_parameters = [0.0,0.0,0.0,0.0] \n",
        "seasonality4_parameters = [0.5,-2.0,-3.0,6.0] # Seasonality that stretches over 4 periods. \n",
        "#The specified numbers are added to the constant in the respective periods.\n",
        "assert len(seasonality4_parameters)==4, 'seasonality4_parameters must have 4 float elements'\n",
        "\n",
        "seasonality12_parameters = [0.0,0.0,0.0,0.0,0.0,0.0,0.0,0.0,0.0,0.0,0.0,0.0]\n",
        "#seasonality12_parameters = [3.0,2.0,1.0,0.0,-1.0,-2.0,-3.0,-2.0,-1.0,0.0,1.0,2.0] # Seasonality that stretches over 12 periods. \n",
        "#The specified numbers are added to the constant in the respective periods.\n",
        "assert len(seasonality12_parameters)==12, 'seasonality12_parameters must have 12 float elements.'\n",
        "\n",
        "n=20  # number of generated observations\n",
        "warm_start=0  #number of periods that are ignored at the start of the generated time series \n",
        "#useful if avoiding dependency from starting values is needed. In case set a high value e.g. warm_start=100 \n",
        "initial_y_value=10.0 # starting value of y in period zero.\n",
        "linear_trend_parameter=0.5 # linear additive trend: this value is cumulatively added to the constant with increasing time\n",
        "\n",
        "\n",
        "y=ARMAgenerator(alpha,\n",
        "                  beta,\n",
        "                  theta,\n",
        "                  sigma,\n",
        "                  linear_trend_parameter,\n",
        "                  seasonality4_parameters,\n",
        "                  seasonality12_parameters,\n",
        "                  n,\n",
        "                  initial_y_value,\n",
        "                  warm_start,\n",
        "                  verbose=1)\n",
        "\n",
        "#Plot resulting time series y_t\n",
        "x_limits = [None,None]#[xmin,xmax]\n",
        "y_limits = [None,None]#[-5,15]#[ymin,ymax]\n",
        "import matplotlib.pyplot as plt\n",
        "plt.xlabel(\"Zeit t\")\n",
        "#plt.ylabel(\"ARMA(0,0) Series\")\n",
        "plt.plot(y,'-b') # This plots the series as a red line.\n",
        "plt.plot(y,'or') # This plots the series as red points.\n",
        "axes = plt.gca()\n",
        "axes.set_xlim(x_limits)\n",
        "axes.set_ylim(y_limits)\n",
        "#plt.hlines(alpha, 0, n, colors='k', linestyles='dashed', label='\\alpha')\n",
        "plt.show()"
      ],
      "execution_count": 2,
      "outputs": [
        {
          "output_type": "stream",
          "text": [
            "Measured error standard deviation: 1.0340286125267202, Measured series mean: 28.493120179843565\n"
          ],
          "name": "stdout"
        },
        {
          "output_type": "display_data",
          "data": {
            "image/png": "[encoded data removed]",
            "text/plain": [
              "<Figure size 432x288 with 1 Axes>"
            ]
          },
          "metadata": {
            "tags": [],
            "needs_background": "light"
          }
        }
      ]
    },
    {
      "cell_type": "code",
      "metadata": {
        "id": "H71BmCf2oHT4"
      },
      "source": [
        ""
      ],
      "execution_count": null,
      "outputs": []
    }
  ]
}